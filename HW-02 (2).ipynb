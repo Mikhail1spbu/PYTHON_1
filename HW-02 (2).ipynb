{
 "cells": [
  {
   "cell_type": "markdown",
   "metadata": {},
   "source": [
    "## Задание № 0 (для знакомых с LaTeX)\n",
    "\n",
    "Наберите в LaTeX формулу (для дробей использовать &bsol;frac и &bsol;cfrac (для многоэтажных))\n",
    "\n",
    "![Я что-то нажал и всё пропало](https://a.radikal.ru/a06/1810/7a/228b571a4336.png)"
   ]
  },
  {
   "cell_type": "markdown",
   "metadata": {},
   "source": [
    "## Задание № 1\n",
    "\n",
    "Напишите функцию, которой на вход подаются \n",
    "- начальное целое значение ($a$, по умолчанию = 1000) \n",
    "- конечное целое значение ($b$, по умолчанию = 5000). \n",
    "\n",
    "Программа должна вывести список всех чисел между $a$ и $b$, в записи которых только чётные числа."
   ]
  },
  {
   "cell_type": "code",
   "execution_count": 49,
   "metadata": {},
   "outputs": [
    {
     "name": "stdout",
     "output_type": "stream",
     "text": [
      "6\n",
      "8\n",
      "10\n",
      "12\n",
      "14\n",
      "16\n",
      "18\n",
      "20\n",
      "22\n",
      "24\n"
     ]
    }
   ],
   "source": [
    "def numbbetween (a = 1000, b = 5000):\n",
    "    if a%2 == 0: \n",
    "        while a <=b :\n",
    "            print(a)\n",
    "            a = 2+a\n",
    "    else: \n",
    "        numbbetween(a+1,b)\n",
    "numbbetween(a = 5,b = 25)"
   ]
  },
  {
   "cell_type": "markdown",
   "metadata": {},
   "source": [
    "## Задание № 2\n",
    "\n",
    "Напишите функцию от двух аргументов $n$, $m$, которая выводит каждый $m$-е из первых $n$ строк треугольника Паскаля.\n",
    "\n",
    "Примеры вызовов: \n",
    "```python\n",
    "    pascal_triangle(10)\n",
    "```\n",
    "должен вывести первые 10 строк;\n",
    "\n",
    "\n",
    "```python\n",
    "    pascal_triangle(10, step = 3)\n",
    "```\n",
    "должен вывести 1, 4, 7, 10 строки.\n",
    "\n",
    "```python\n",
    "    pascal_triangle(10, 3)\n",
    "```\n",
    "Ошибка TypeError                                 \n",
    "\n",
    "__Подсказка__: может понадобится функция __zip__. Она позволяет итерироваться сразу по нескольким итерируемым объектам:\n",
    "\n",
    "```python\n",
    "a = [10, 20, 30, 40]\n",
    "b = ['a', 'b', 'c', 'd', 'e']\n",
    "c = [1.0, 3.0, 5.0, 8.0, 9.0, 11.0]\n",
    "for i, j, k in zip(a, b, c):\n",
    "     print(i, j, k)\n",
    "```"
   ]
  },
  {
   "cell_type": "code",
   "execution_count": 45,
   "metadata": {},
   "outputs": [
    {
     "name": "stdout",
     "output_type": "stream",
     "text": [
      "1 \n",
      "1 1 \n",
      "1 2 1 \n",
      "1 3 3 1 \n",
      "1 4 6 4 1 \n",
      "1 \n",
      "1 1 \n",
      "1 2 1 \n",
      "1 3 3 1 \n",
      "1 4 6 4 1 \n",
      "1 5 10 10 5 1 \n",
      "1 6 15 20 15 6 1 \n",
      "TypeError\n"
     ]
    }
   ],
   "source": [
    "from math import factorial\n",
    "\n",
    "def pascal_triangle(Numb, d='', step=1):\n",
    "    try:\n",
    "        for n in range(0, Numb, step):\n",
    "            row = d\n",
    "            for k in range(n + 1):\n",
    "                row += str(int((factorial(n)) / ((factorial(k)) * factorial(n - k)))) + ' '\n",
    "            print(row)\n",
    "    except TypeError:\n",
    "            print('TypeError')\n",
    "\n",
    "pascal_triangle(5)\n",
    "pascal_triangle(7,step = 1)\n",
    "pascal_triangle(10,3)\n",
    "\n"
   ]
  },
  {
   "cell_type": "markdown",
   "metadata": {},
   "source": [
    "## Задание № 3\n",
    "\n",
    "Напишите функцию, принимающую произвольное число произвольных аргументов и возвращающая словарь с парами \n",
    "```\n",
    "<название_типа данных>: <количество элементов этого типа данных среди переданных аргументов> \n",
    "```"
   ]
  },
  {
   "cell_type": "code",
   "execution_count": 8,
   "metadata": {},
   "outputs": [
    {
     "data": {
      "text/plain": [
       "{int: 1, float: 1, str: 2, list: 1, set: 1}"
      ]
     },
     "execution_count": 8,
     "metadata": {},
     "output_type": "execute_result"
    }
   ],
   "source": [
    "def func(*args):\n",
    "    dictionary={}\n",
    "    k=1\n",
    "    for i in args:\n",
    "         dictionary[type(i)] = dictionary.get(type(i), 0) + 1\n",
    "        \n",
    "    return dictionary\n",
    "\n",
    "\n",
    "func(0,3.2,'d', 'c', [1,2],{1,4})\n",
    "\n"
   ]
  },
  {
   "cell_type": "markdown",
   "metadata": {},
   "source": [
    "## Задание № 4\n",
    "Напишите собственную реализацию стандартных тригонометрических (и не только) функций - $cos, sin, ln, e$\n",
    "\n",
    "- Оформьте в ячейке markdown соответствующие формулы.\n",
    "- Напишите функции my_sin(), my_cos(), ... - аргументы - **углы**, не радианы\n",
    "- Проверьте, чтобы считалось и от комплексного аргумента\n",
    "- Сравните (удобным вам способом) полученные вами результаты с результатами стандартных методов "
   ]
  },
  {
   "cell_type": "code",
   "execution_count": 11,
   "metadata": {},
   "outputs": [
    {
     "name": "stdout",
     "output_type": "stream",
     "text": [
      "3.141592653589793\n",
      "0.5000000000000001\n",
      "0.7071067811865476\n"
     ]
    }
   ],
   "source": [
    "import math\n",
    "import cmath\n",
    "# перевод из градусов в радианы\n",
    "print(math.radians(180))\n",
    "# косинус\n",
    "print(math.cos(math.radians(60))) \n",
    "# cинус\n",
    "print(math.sin(math.radians(45)))  \n",
    "# и так далее"
   ]
  },
  {
   "cell_type": "code",
   "execution_count": 41,
   "metadata": {},
   "outputs": [
    {
     "name": "stdout",
     "output_type": "stream",
     "text": [
      "0.8660254037844385\n",
      "0.8660254037844386\n",
      "0.5000000000000001\n",
      "0.5000000000000001\n",
      "0.0\n",
      "0.0\n",
      "22026.46579480671\n",
      "22026.465794806718\n"
     ]
    }
   ],
   "source": [
    "import math\n",
    "def ownsin(x):\n",
    "    N = 30\n",
    "    ans = 0\n",
    "    number = math.radians(x)\n",
    "    for n in range(N):\n",
    "        ans = ans +(-1)**n*number**(2*n+1)/math.factorial(2*n+1)\n",
    "    return ans\n",
    "    \n",
    "    \n",
    "def owncos(x):\n",
    "    N = 30\n",
    "    ans = 0\n",
    "    number = math.radians(x)\n",
    "    for n in range(N):\n",
    "        ans = ans +(-1)**n*number**(2*n)/math.factorial(2*n)\n",
    "    return ans\n",
    "\n",
    "\n",
    "def ownexp(x):\n",
    "    n = 50\n",
    "    ans = 0\n",
    "    for i in range(n):\n",
    "        ans = ans + x**i/math.factorial(i)\n",
    "    return ans\n",
    "\n",
    "def ownln(x):\n",
    "    if (x > 0):\n",
    "        y = x\n",
    "        s = 0\n",
    "        while (y > 2):\n",
    "            y = y/ownexp(1)\n",
    "            s = s + 1\n",
    "        ans = 0\n",
    "        N = 30\n",
    "        for n in range(1,N):\n",
    "            ans = ans - (-1)**n*(y-1)**n/n\n",
    "        return (ans+s)\n",
    "    return None\n",
    "print(ownsin(60))\n",
    "print(math.sin(math.radians(60)))\n",
    "print(owncos(60))\n",
    "print(math.cos(math.radians(60)))\n",
    "print(ownln(1))\n",
    "print(math.log(1))\n",
    "print(ownexp(10))\n",
    "print(math.exp(10))\n"
   ]
  },
  {
   "cell_type": "code",
   "execution_count": null,
   "metadata": {},
   "outputs": [],
   "source": []
  }
 ],
 "metadata": {
  "kernelspec": {
   "display_name": "Python 3",
   "language": "python",
   "name": "python3"
  },
  "language_info": {
   "codemirror_mode": {
    "name": "ipython",
    "version": 3
   },
   "file_extension": ".py",
   "mimetype": "text/x-python",
   "name": "python",
   "nbconvert_exporter": "python",
   "pygments_lexer": "ipython3",
   "version": "3.6.5"
  }
 },
 "nbformat": 4,
 "nbformat_minor": 2
}
