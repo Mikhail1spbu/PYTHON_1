{
 "cells": [
  {
   "cell_type": "markdown",
   "metadata": {},
   "source": [
    "# Задача № 1\n",
    "\n",
    "Дан массив чисел, содержащий значение температуры за последний 10 дней (сгенерируйте массив чисел с плавающей точкой от 10 до 25).\n",
    "\n",
    "- Рассчитайте массив чисел, который содежит соответствующие значения в [Фаренгейтах](https://ru.wikipedia.org/wiki/%D0%93%D1%80%D0%B0%D0%B4%D1%83%D1%81_%D0%A4%D0%B0%D1%80%D0%B5%D0%BD%D0%B3%D0%B5%D0%B9%D1%82%D0%B0).\n",
    "\n",
    "- Рассчитайте массив чисел, который преобразует значения в Фаренгейтах в значения по [Кельвину](https://ru.wikipedia.org/wiki/%D0%9A%D0%B5%D0%BB%D1%8C%D0%B2%D0%B8%D0%BD)\n",
    "\n",
    "- Значения по Кельвину преобразуйте в градусы Цельсия и сравните полученный результат с исходным массивом (выведите разность)."
   ]
  },
  {
   "cell_type": "code",
   "execution_count": 147,
   "metadata": {},
   "outputs": [
    {
     "name": "stdout",
     "output_type": "stream",
     "text": [
      "[0.0, -5.329070518200751e-15, 2.1316282072803006e-14, -1.7763568394002505e-15, -1.4210854715202004e-14, 5.329070518200751e-15, -1.4210854715202004e-14, 2.1316282072803006e-14, -1.0658141036401503e-14, 2.1316282072803006e-14]\n"
     ]
    }
   ],
   "source": [
    "import random\n",
    "answer = []\n",
    "for i in range(10):\n",
    "    rndC = random.uniform(10, 25)\n",
    "    rndF = (rndC * 9/5) + 32\n",
    "    rndK = (rndF - 32) * 5/9 + 273.15\n",
    "    rndCfromrndK = rndK - 273.15\n",
    "    answer.append(rndC - rndCfromrndK)\n",
    "print(answer)"
   ]
  },
  {
   "cell_type": "markdown",
   "metadata": {},
   "source": [
    "# Задача № 2\n",
    "\n",
    "Дан словарь.\n",
    "Напишите функцию, которая возвращает словарь, состоящий из элементов исходного с ключами типа String.\n",
    "\n",
    "Например:  \n",
    "\n",
    "`Вход`: \n",
    "```python\n",
    "{'x':2, 4:'y', 4.0:'12', '3':'fdfs', 'a':9., b'pp':52}\n",
    "```\n",
    "\n",
    "`Выход`:\n",
    "```python\n",
    "{'x': 2, '3': 'fdfs', 'a': 9.0}\n",
    "```"
   ]
  },
  {
   "cell_type": "code",
   "execution_count": 148,
   "metadata": {},
   "outputs": [
    {
     "name": "stdout",
     "output_type": "stream",
     "text": [
      "{'x': 2, '3': 'fdfs', 'a': 9.0}\n"
     ]
    }
   ],
   "source": [
    "def newDict(oldDict):\n",
    "    return dict(filter(lambda x: x[0].__class__.__name__ == \"str\", oldDict.items()))\n",
    "\n",
    "print(newDict({'x':2, 4:'y', 4.0:'12', '3':'fdfs', 'a':9., b'pp':52}))"
   ]
  },
  {
   "cell_type": "markdown",
   "metadata": {},
   "source": [
    "# Задача № 3\n",
    "\n",
    "- Сгенерируйте два массива $a$ и $b$ одинаковой случайной длины $n$ (от 4 до 8 чисел) случайных чисел от 1 до 10\n",
    "- Посчитайте $\\prod\\limits_{i = 0}^{n-1} (a[i] + b[n-1-i])$, используя только функции __map, zip, filter, reduce__"
   ]
  },
  {
   "cell_type": "code",
   "execution_count": 160,
   "metadata": {},
   "outputs": [
    {
     "name": "stdout",
     "output_type": "stream",
     "text": [
      "823680\n"
     ]
    }
   ],
   "source": [
    "import numpy as np\n",
    "from functools import reduce\n",
    "from random import randint\n",
    "\n",
    "n = randint(4, 8)\n",
    "massive1 = np.random.randint(1, 11, size=n)\n",
    "massive2 = np.random.randint(1, 11, size=n)\n",
    "print(reduce((lambda x, y: x * y), map(lambda x, y: x+y, massive1, massive2[::-1])))\n"
   ]
  }
 ],
 "metadata": {
  "kernelspec": {
   "display_name": "Python 3",
   "language": "python",
   "name": "python3"
  },
  "language_info": {
   "codemirror_mode": {
    "name": "ipython",
    "version": 3
   },
   "file_extension": ".py",
   "mimetype": "text/x-python",
   "name": "python",
   "nbconvert_exporter": "python",
   "pygments_lexer": "ipython3",
   "version": "3.6.5"
  }
 },
 "nbformat": 4,
 "nbformat_minor": 2
}
